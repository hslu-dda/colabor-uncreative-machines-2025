{
 "cells": [
  {
   "cell_type": "markdown",
   "id": "766c5a77",
   "metadata": {},
   "source": [
    "# Natural Language Processing (NLP) in Python"
   ]
  },
  {
   "cell_type": "markdown",
   "id": "4d5cc4cb",
   "metadata": {},
   "source": [
    "## 1. Libraries\n",
    "\n",
    "- The [Hugging Face Transformers library](https://huggingface.co/docs/transformers/v4.17.0/en/index) stands at the forefront of modern Natural Language Processing (NLP), offering a vast collection of pre-trained models based on transformer architectures like BERT, RoBERTa, and T5. These models have been trained on extensive amounts of text data and can be fine-tuned for various NLP tasks, such as sentiment analysis, named entity recognition, or language translation."
   ]
  },
  {
   "cell_type": "code",
   "execution_count": 1,
   "id": "516e13d3",
   "metadata": {},
   "outputs": [
    {
     "name": "stdout",
     "output_type": "stream",
     "text": [
      "Tensorflow 2.19.0\n"
     ]
    }
   ],
   "source": [
    "import pandas as pd # for data processing\n",
    "from transformers import AutoTokenizer, TFAutoModelForCausalLM, TFAutoModelForSequenceClassification # to load pretrained models\n",
    "import tensorflow as tf\n",
    "import tensorflow.keras as keras\n",
    "print(f\"Tensorflow {tf.__version__}\")\n"
   ]
  },
  {
   "cell_type": "markdown",
   "id": "69faf0c7",
   "metadata": {},
   "source": [
    "## 2. Importing Data"
   ]
  },
  {
   "cell_type": "code",
   "execution_count": 3,
   "id": "9e5a3158",
   "metadata": {},
   "outputs": [
    {
     "data": {
      "text/html": [
       "<div>\n",
       "<style scoped>\n",
       "    .dataframe tbody tr th:only-of-type {\n",
       "        vertical-align: middle;\n",
       "    }\n",
       "\n",
       "    .dataframe tbody tr th {\n",
       "        vertical-align: top;\n",
       "    }\n",
       "\n",
       "    .dataframe thead th {\n",
       "        text-align: right;\n",
       "    }\n",
       "</style>\n",
       "<table border=\"1\" class=\"dataframe\">\n",
       "  <thead>\n",
       "    <tr style=\"text-align: right;\">\n",
       "      <th></th>\n",
       "      <th>sentences</th>\n",
       "    </tr>\n",
       "  </thead>\n",
       "  <tbody>\n",
       "    <tr>\n",
       "      <th>0</th>\n",
       "      <td>Keith Allen Haring (May 4, 1958 – February 16,...</td>\n",
       "    </tr>\n",
       "    <tr>\n",
       "      <th>1</th>\n",
       "      <td>His animated imagery has \"become a widely reco...</td>\n",
       "    </tr>\n",
       "    <tr>\n",
       "      <th>2</th>\n",
       "      <td>Much of his work includes sexual allusions tha...</td>\n",
       "    </tr>\n",
       "    <tr>\n",
       "      <th>3</th>\n",
       "      <td>In addition to solo gallery exhibitions, he pa...</td>\n",
       "    </tr>\n",
       "    <tr>\n",
       "      <th>4</th>\n",
       "      <td>The Whitney Museum held a retrospective of his...</td>\n",
       "    </tr>\n",
       "  </tbody>\n",
       "</table>\n",
       "</div>"
      ],
      "text/plain": [
       "                                           sentences\n",
       "0  Keith Allen Haring (May 4, 1958 – February 16,...\n",
       "1  His animated imagery has \"become a widely reco...\n",
       "2  Much of his work includes sexual allusions tha...\n",
       "3  In addition to solo gallery exhibitions, he pa...\n",
       "4  The Whitney Museum held a retrospective of his..."
      ]
     },
     "execution_count": 3,
     "metadata": {},
     "output_type": "execute_result"
    }
   ],
   "source": [
    "# Importing a csv files\n",
    "harring_data = pd.read_csv(\"./export/harring_data.csv\")\n",
    "harring_data.head()"
   ]
  },
  {
   "cell_type": "markdown",
   "id": "a1cc0e33",
   "metadata": {},
   "source": [
    "## 3. Applying Natural Language Processing"
   ]
  },
  {
   "cell_type": "markdown",
   "id": "97040aec",
   "metadata": {},
   "source": [
    "### 3.1 Sentiment Analysis"
   ]
  },
  {
   "cell_type": "code",
   "execution_count": 4,
   "id": "160c3772",
   "metadata": {},
   "outputs": [
    {
     "name": "stderr",
     "output_type": "stream",
     "text": [
      "All PyTorch model weights were used when initializing TFBertForSequenceClassification.\n",
      "\n",
      "All the weights of TFBertForSequenceClassification were initialized from the PyTorch model.\n",
      "If your task is similar to the task the model of the checkpoint was trained on, you can already use TFBertForSequenceClassification for predictions without further training.\n"
     ]
    }
   ],
   "source": [
    "model_name = \"nlptown/bert-base-multilingual-uncased-sentiment\"\n",
    "\n",
    "model = TFAutoModelForSequenceClassification.from_pretrained(model_name)\n",
    "tokenizer = AutoTokenizer.from_pretrained(model_name)"
   ]
  },
  {
   "cell_type": "code",
   "execution_count": 5,
   "id": "4fb45b84",
   "metadata": {},
   "outputs": [
    {
     "name": "stderr",
     "output_type": "stream",
     "text": [
      "Device set to use 0\n"
     ]
    }
   ],
   "source": [
    "from transformers import pipeline\n",
    "classifier = pipeline(\"sentiment-analysis\", model=model, tokenizer=tokenizer, framework=\"tf\")"
   ]
  },
  {
   "cell_type": "markdown",
   "id": "b3671cbf",
   "metadata": {},
   "source": [
    "Prepare the sentences from the DataFrame for classification"
   ]
  },
  {
   "cell_type": "code",
   "execution_count": 10,
   "id": "5b6aa7f7",
   "metadata": {},
   "outputs": [
    {
     "name": "stdout",
     "output_type": "stream",
     "text": [
      "In 2019, he was one of the inaugural 50 American \"pioneers, trailblazers, and heroes\" inducted on the National LGBTQ Wall of Honor within the Stonewall National Monument in New York City's Stonewall Inn\n"
     ]
    }
   ],
   "source": [
    "# get the sentences\n",
    "sentences = harring_data[\"sentences\"]\n",
    "\n",
    "# make a list out of it: \n",
    "sentences = sentences.astype(str)\n",
    "\n",
    "# make a list out of it\n",
    "sentences = sentences.tolist()\n",
    "\n",
    "# choose one & print it\n",
    "one_sentence = sentences[12]\n",
    "print(one_sentence)"
   ]
  },
  {
   "cell_type": "code",
   "execution_count": 11,
   "id": "afb09062",
   "metadata": {},
   "outputs": [
    {
     "data": {
      "text/plain": [
       "[{'label': '5 stars', 'score': 0.5006921887397766}]"
      ]
     },
     "execution_count": 11,
     "metadata": {},
     "output_type": "execute_result"
    }
   ],
   "source": [
    "# classify the sentence\n",
    "classifier(one_sentence)"
   ]
  },
  {
   "cell_type": "code",
   "execution_count": 13,
   "id": "1bbdc54c",
   "metadata": {},
   "outputs": [
    {
     "name": "stdout",
     "output_type": "stream",
     "text": [
      "Haring died of AIDS-related complications on February 16, 1990\n"
     ]
    },
    {
     "data": {
      "text/plain": [
       "[{'label': '1 star', 'score': 0.44514399766921997}]"
      ]
     },
     "execution_count": 13,
     "metadata": {},
     "output_type": "execute_result"
    }
   ],
   "source": [
    "# classify another one\n",
    "second_sentence = sentences[10]\n",
    "print(second_sentence)\n",
    "classifier(second_sentence)"
   ]
  },
  {
   "cell_type": "markdown",
   "id": "a3e7d952",
   "metadata": {},
   "source": [
    "### 3.2 Named Entity Recognition"
   ]
  },
  {
   "cell_type": "code",
   "execution_count": 15,
   "id": "b4ac5d36",
   "metadata": {},
   "outputs": [
    {
     "name": "stderr",
     "output_type": "stream",
     "text": [
      "Some weights of the model checkpoint at dbmdz/bert-large-cased-finetuned-conll03-english were not used when initializing BertForTokenClassification: ['bert.pooler.dense.bias', 'bert.pooler.dense.weight']\n",
      "- This IS expected if you are initializing BertForTokenClassification from the checkpoint of a model trained on another task or with another architecture (e.g. initializing a BertForSequenceClassification model from a BertForPreTraining model).\n",
      "- This IS NOT expected if you are initializing BertForTokenClassification from the checkpoint of a model that you expect to be exactly identical (initializing a BertForSequenceClassification model from a BertForSequenceClassification model).\n",
      "Device set to use mps:0\n"
     ]
    }
   ],
   "source": [
    "# define the pipeline and model\n",
    "ner = pipeline(\"ner\", model=\"dbmdz/bert-large-cased-finetuned-conll03-english\", grouped_entities=True)\n"
   ]
  },
  {
   "cell_type": "code",
   "execution_count": 16,
   "id": "eaacc194",
   "metadata": {},
   "outputs": [
    {
     "name": "stdout",
     "output_type": "stream",
     "text": [
      "{'entity_group': 'MISC', 'score': np.float32(0.99913186), 'word': 'American', 'start': 40, 'end': 48}\n",
      "{'entity_group': 'MISC', 'score': np.float32(0.97617745), 'word': 'National LGBTQ Wall of Honor', 'start': 102, 'end': 130}\n",
      "{'entity_group': 'LOC', 'score': np.float32(0.96628475), 'word': 'Stonewall National Monument', 'start': 142, 'end': 169}\n",
      "{'entity_group': 'LOC', 'score': np.float32(0.9990921), 'word': 'New York City', 'start': 173, 'end': 186}\n",
      "{'entity_group': 'LOC', 'score': np.float32(0.9532637), 'word': 'Stonewall Inn', 'start': 189, 'end': 202}\n"
     ]
    }
   ],
   "source": [
    "# Run NER\n",
    "entities = ner(one_sentence)\n",
    "\n",
    "# Print results\n",
    "for entity in entities:\n",
    "    print(entity)"
   ]
  }
 ],
 "metadata": {
  "kernelspec": {
   "display_name": "3.11.5",
   "language": "python",
   "name": "python3"
  },
  "language_info": {
   "codemirror_mode": {
    "name": "ipython",
    "version": 3
   },
   "file_extension": ".py",
   "mimetype": "text/x-python",
   "name": "python",
   "nbconvert_exporter": "python",
   "pygments_lexer": "ipython3",
   "version": "3.11.5"
  }
 },
 "nbformat": 4,
 "nbformat_minor": 5
}
