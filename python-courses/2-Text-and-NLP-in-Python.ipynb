{
 "cells": [
  {
   "cell_type": "markdown",
   "id": "766c5a77",
   "metadata": {},
   "source": [
    "# Text and Natural Language Processing (NLP) in Python"
   ]
  },
  {
   "cell_type": "markdown",
   "id": "4d5cc4cb",
   "metadata": {},
   "source": [
    "## 1. Libraries\n",
    "\n",
    "- Pandas is a powerful data manipulation library, facilitates loading, exploring, cleaning, and transforming text datasets stored in formats like CSV or \n",
    "Excel.\n",
    "- Regular expressions (re) are invaluable for text preprocessing tasks, such as removing special characters, punctuation, and digits from raw text data.\n",
    "- The Hugging Face Transformers library stands at the forefront of modern Natural Language Processing (NLP), offering a vast collection of pre-trained models based on transformer architectures like BERT, RoBERTa, and T5. These models have been trained on extensive amounts of text data and can be fine-tuned for various NLP tasks, such as sentiment analysis, named entity recognition, or language translation."
   ]
  },
  {
   "cell_type": "code",
   "execution_count": 1,
   "id": "516e13d3",
   "metadata": {},
   "outputs": [
    {
     "name": "stderr",
     "output_type": "stream",
     "text": [
      "/Users/maxfrischknecht/Documents/Github/colabor-uncreative-machines-2025/.venv/lib/python3.11/site-packages/tqdm/auto.py:21: TqdmWarning: IProgress not found. Please update jupyter and ipywidgets. See https://ipywidgets.readthedocs.io/en/stable/user_install.html\n",
      "  from .autonotebook import tqdm as notebook_tqdm\n",
      "None of PyTorch, TensorFlow >= 2.0, or Flax have been found. Models won't be available and only tokenizers, configuration and file/data utilities can be used.\n"
     ]
    }
   ],
   "source": [
    "import pandas as pd # for data processing\n",
    "import re\n",
    "from transformers import AutoTokenizer, TFAutoModelForCausalLM # to load pretrained models\n"
   ]
  },
  {
   "cell_type": "markdown",
   "id": "e30dacac",
   "metadata": {},
   "source": []
  }
 ],
 "metadata": {
  "kernelspec": {
   "display_name": ".venv",
   "language": "python",
   "name": "python3"
  },
  "language_info": {
   "codemirror_mode": {
    "name": "ipython",
    "version": 3
   },
   "file_extension": ".py",
   "mimetype": "text/x-python",
   "name": "python",
   "nbconvert_exporter": "python",
   "pygments_lexer": "ipython3",
   "version": "3.11.5"
  }
 },
 "nbformat": 4,
 "nbformat_minor": 5
}
