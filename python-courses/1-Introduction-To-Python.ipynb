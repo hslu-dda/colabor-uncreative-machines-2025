{
 "cells": [
  {
   "cell_type": "markdown",
   "id": "c8815033",
   "metadata": {},
   "source": [
    "# Python Fundamentals"
   ]
  },
  {
   "cell_type": "markdown",
   "id": "c506861a",
   "metadata": {},
   "source": [
    "## 1. Defining Variables\n",
    "\n",
    "Variables are used to store information. You can assign a value to a variable using the `=` operator."
   ]
  },
  {
   "cell_type": "code",
   "execution_count": null,
   "id": "a0d24eb5",
   "metadata": {},
   "outputs": [],
   "source": [
    "# Integer\n",
    "x = 10\n",
    "\n",
    "# Float\n",
    "y = 3.14\n",
    "\n",
    "# String\n",
    "name = \"Alice\"\n",
    "\n",
    "# Boolean\n",
    "is_active = True"
   ]
  },
  {
   "cell_type": "markdown",
   "id": "a7bfe4e2",
   "metadata": {},
   "source": [
    "Variable names can be choosen freely, but there are some best practices: \n",
    "\n",
    "- Use descriptive names that reflect the variable's purpose or content. This makes your code easier to understand and maintain. E.g. `total_amount` instead of `num`.\n",
    "- Variables should only contain letters (A-Z) and digits (0-9). They can't start with a digit. By convention variable names should be lowercase with words seperated by an underscore. \n",
    "- Although not directly related to the variable name itself, adding comments can help clarify what the variable represents and how it's used. \n",
    "- Python has reserved keywords (like `list`, `str`, `class`, etc.) that shouldn't be used as variable names.\n",
    "- While descriptive names are good, overly long ones can clutter your code. Try to find a balance between specificity and length.\n"
   ]
  },
  {
   "cell_type": "markdown",
   "id": "f55378f4",
   "metadata": {},
   "source": [
    "## 2. Printing Variables\n",
    "\n",
    "Printing is important to understand what is happening in your code!"
   ]
  },
  {
   "cell_type": "code",
   "execution_count": 5,
   "id": "18a343c7",
   "metadata": {},
   "outputs": [
    {
     "name": "stdout",
     "output_type": "stream",
     "text": [
      "10\n",
      "10 3.14\n",
      "Alice\n",
      "Hello, Alice!\n"
     ]
    }
   ],
   "source": [
    "print(x)          # Output: 10\n",
    "print(x, y)       # Output: 10 3.14\n",
    "print(name)       # Output: Alice\n",
    "print(f\"Hello, {name}!\")  # Output: Hello, Alice!"
   ]
  },
  {
   "cell_type": "markdown",
   "id": "fc2fada8",
   "metadata": {},
   "source": [
    "## 3. Basic Calculations"
   ]
  },
  {
   "cell_type": "code",
   "execution_count": 8,
   "id": "6692d46e",
   "metadata": {},
   "outputs": [
    {
     "name": "stdout",
     "output_type": "stream",
     "text": [
      "8 8 3.3333333333333335 3 1 8\n"
     ]
    }
   ],
   "source": [
    "# Arithmetic operations\n",
    "sum_value = 5 + 3      # Addition\n",
    "product = 4 * 2        # Multiplication\n",
    "division = 10 / 3      # Division (float result)\n",
    "floor_div = 10 // 3    # Floor division: divides the numbers and rounds the result down to the nearest integer.\n",
    "\n",
    "# Modulor: Returns the remainder of a division.\n",
    "# Can be used to check if a numver is even: \n",
    "# 7 % 2 = 1, so it’s odd\n",
    "# 8 % 2 = 0, so it’s even\n",
    "modulus = 10 % 3\n",
    "\n",
    "# Exponentiation: \n",
    "# Raises a number to a power.\n",
    "# 2**3 => 2 × 2 × 2 = 8\n",
    "power = 2 ** 3\n",
    "\n",
    "print(sum_value, product, division, floor_div, modulus, power)"
   ]
  },
  {
   "cell_type": "markdown",
   "id": "3da2ce74",
   "metadata": {},
   "source": [
    "## 4. Data Types\n",
    "\n",
    "Python has several basic data types:\n",
    "- `int` for integers\n",
    "- `float` for decimal numbers\n",
    "- `str` for text (strings)\n",
    "- `bool` for True/False values"
   ]
  },
  {
   "cell_type": "code",
   "execution_count": 10,
   "id": "fefb9423",
   "metadata": {},
   "outputs": [
    {
     "name": "stdout",
     "output_type": "stream",
     "text": [
      "<class 'int'>\n",
      "<class 'float'>\n",
      "<class 'str'>\n",
      "<class 'bool'>\n",
      "<class 'float'>\n",
      "<class 'str'>\n"
     ]
    }
   ],
   "source": [
    "print(type(x))      # Output: <class 'int'>\n",
    "print(type(y))      # Output: <class 'float'>\n",
    "print(type(name))   # Output: <class 'str'>\n",
    "print(type(is_active))  # Output: <class 'bool'>\n",
    "print(type(5 / 3))\n",
    "print(type(\"abc\"))"
   ]
  },
  {
   "cell_type": "markdown",
   "id": "2611c444",
   "metadata": {},
   "source": [
    "### 4.1. Lists\n",
    "\n",
    "In Python, a list is an ordered, mutable collection of items separated by commas and \n",
    "enclosed in square brackets ([]). Lists can store different data types (like integers, \n",
    "floats, strings, other lists, etc.) and allow duplicate elements. Here are some key \n",
    "features and examples of working with lists in Python:"
   ]
  },
  {
   "cell_type": "code",
   "execution_count": 15,
   "id": "b15f927e",
   "metadata": {},
   "outputs": [],
   "source": [
    "# Empty list\n",
    "empty_list = []\n",
    "\n",
    "# List with integer values\n",
    "numbers = [1, 2, 3, 4, 5]\n",
    "\n",
    "# List with mixed data types\n",
    "mixed_list = [\"apple\", 7, True]"
   ]
  },
  {
   "cell_type": "markdown",
   "id": "80d2f8ab",
   "metadata": {},
   "source": [
    "You can access individual elements in a list using their index (0-based). Negative indices count from the end of the list."
   ]
  },
  {
   "cell_type": "code",
   "execution_count": 16,
   "id": "8c602db1",
   "metadata": {},
   "outputs": [
    {
     "name": "stdout",
     "output_type": "stream",
     "text": [
      "apple\n",
      "banana\n",
      "cherry\n"
     ]
    }
   ],
   "source": [
    "fruits = [\"apple\", \"banana\", \"cherry\"]\n",
    "print(fruits[0])    # Output: apple\n",
    "print(fruits[1])    # Output: banana\n",
    "print(fruits[-1])  # Output: cherry (the last item)"
   ]
  },
  {
   "cell_type": "markdown",
   "id": "0b075e7d",
   "metadata": {},
   "source": [
    "Lists are mutable, so you can add new elements using the `append()` method or the `+` operator."
   ]
  },
  {
   "cell_type": "code",
   "execution_count": 17,
   "id": "2e435758",
   "metadata": {},
   "outputs": [
    {
     "name": "stdout",
     "output_type": "stream",
     "text": [
      "['apple', 'banana', 'cherry']\n"
     ]
    }
   ],
   "source": [
    "fruits = [\"apple\", \"banana\"]\n",
    "fruits.append(\"cherry\")\n",
    "print(fruits)  # Output: ['apple', 'banana', 'cherry']"
   ]
  },
  {
   "cell_type": "markdown",
   "id": "fde25be0",
   "metadata": {},
   "source": [
    "You can remove elements using the `remove()` method, which removes the first occurrence of a specified value, or by using indexing with the `del` statement."
   ]
  },
  {
   "cell_type": "code",
   "execution_count": 18,
   "id": "35c1872e",
   "metadata": {},
   "outputs": [
    {
     "name": "stdout",
     "output_type": "stream",
     "text": [
      "['apple', 'cherry']\n"
     ]
    }
   ],
   "source": [
    "fruits = [\"apple\", \"banana\", \"cherry\"]\n",
    "fruits.remove(\"banana\")\n",
    "print(fruits)  # Output: ['apple', 'cherry']"
   ]
  },
  {
   "cell_type": "code",
   "execution_count": 19,
   "id": "d87ee268",
   "metadata": {},
   "outputs": [
    {
     "name": "stdout",
     "output_type": "stream",
     "text": [
      "['apple', 'cherry']\n"
     ]
    }
   ],
   "source": [
    "fruits = [\"apple\", \"banana\", \"cherry\"]\n",
    "del fruits[1]\n",
    "print(fruits)  # Output: ['apple', 'cherry']"
   ]
  },
  {
   "cell_type": "markdown",
   "id": "cea52600",
   "metadata": {},
   "source": [
    "Python lists have several built-in methods for manipulating and querying data, such as `len()`, `count()`, `sort()`, `reverse()`, etc."
   ]
  },
  {
   "cell_type": "code",
   "execution_count": 20,
   "id": "ccc2a35d",
   "metadata": {},
   "outputs": [
    {
     "name": "stdout",
     "output_type": "stream",
     "text": [
      "6\n",
      "2\n",
      "[1, 1, 3, 4, 5, 9]\n",
      "[9, 5, 4, 3, 1, 1]\n"
     ]
    }
   ],
   "source": [
    "numbers = [3, 1, 4, 1, 5, 9]\n",
    "print(len(numbers))         # Output: 6 (the number of elements in the list)\n",
    "print(numbers.count(1))     # Output: 2 (the number of occurrences of 1 in the list)\n",
    "numbers.sort()\n",
    "print(numbers)              # Output: [1, 1, 3, 4, 5, 9] (sorted list)\n",
    "numbers.reverse()\n",
    "print(numbers)              # Output: [9, 5, 4, 3, 1, 1] (reversed list)"
   ]
  },
  {
   "cell_type": "markdown",
   "id": "f72866dc",
   "metadata": {},
   "source": [
    " You can extract a portion of a list using slicing syntax (`list[start:end]`), where `start` and `end` are optional indices."
   ]
  },
  {
   "cell_type": "code",
   "execution_count": 21,
   "id": "477046d5",
   "metadata": {},
   "outputs": [
    {
     "name": "stdout",
     "output_type": "stream",
     "text": [
      "['banana', 'cherry']\n",
      "['apple', 'banana', 'cherry']\n",
      "['cherry', 'date', 'elderberry']\n"
     ]
    }
   ],
   "source": [
    "fruits = [\"apple\", \"banana\", \"cherry\", \"date\", \"elderberry\"]\n",
    "print(fruits[1:3])      # Output: ['banana', 'cherry'] (elements at index 1 to 2)\n",
    "print(fruits[:3])       # Output: ['apple', 'banana', 'cherry'] (elements from the beginning to index 3)\n",
    "print(fruits[2:])       # Output: ['cherry', 'date', 'elderberry'] (elements from index 2 to the end)"
   ]
  },
  {
   "cell_type": "markdown",
   "id": "7b59ddce",
   "metadata": {},
   "source": [
    "You can merge (concatenate) two lists using the `+` operator or the `extend()`"
   ]
  },
  {
   "cell_type": "code",
   "execution_count": 39,
   "id": "8f122255",
   "metadata": {},
   "outputs": [
    {
     "name": "stdout",
     "output_type": "stream",
     "text": [
      "[1, 2, 3, 4, 5, 6]\n"
     ]
    }
   ],
   "source": [
    "list1 = [1, 2, 3]\n",
    "list2 = [4, 5, 6]\n",
    "\n",
    "# this creates a new list\n",
    "merged_list = list1 + list2\n",
    "print(merged_list)  # Output: [1, 2, 3, 4, 5, 6]"
   ]
  },
  {
   "cell_type": "code",
   "execution_count": 41,
   "id": "c06d43e1",
   "metadata": {},
   "outputs": [
    {
     "name": "stdout",
     "output_type": "stream",
     "text": [
      "[1, 2, 3, 4, 5, 6]\n"
     ]
    }
   ],
   "source": [
    "list1 = [1, 2, 3]\n",
    "list2 = [4, 5, 6]\n",
    "\n",
    "# this doesnt create a new list, but extends list1\n",
    "list1.extend(list2)\n",
    "print(list1)  # Output: [1, 2, 3, 4, 5, 6]"
   ]
  },
  {
   "cell_type": "markdown",
   "id": "11cb7df7",
   "metadata": {},
   "source": [
    "### 4.2 Tuples\n",
    "\n",
    "In Python, a tuple is an ordered, immutable collection of items separated by commas and enclosed in parentheses (()). Tuples can store different data types (like integers, floats, strings, other tuples, etc.) and allow duplicate elements. Here are some key features and examples of working with tuples in Python:"
   ]
  },
  {
   "cell_type": "code",
   "execution_count": 22,
   "id": "f82fc85d",
   "metadata": {},
   "outputs": [],
   "source": [
    "# Empty tuple\n",
    "empty_tuple = ()\n",
    "\n",
    "# Tuple with integer values\n",
    "numbers = (1, 2, 3, 4, 5)\n",
    "\n",
    "# Tuple with mixed data types\n",
    "mixed_tuple = (\"apple\", 7, True)"
   ]
  },
  {
   "cell_type": "markdown",
   "id": "c3017de0",
   "metadata": {},
   "source": [
    "You can access individual elements in a tuple using their index (0-based). Negative indices count from the end of the tuple."
   ]
  },
  {
   "cell_type": "code",
   "execution_count": 23,
   "id": "e0883124",
   "metadata": {},
   "outputs": [
    {
     "name": "stdout",
     "output_type": "stream",
     "text": [
      "apple\n",
      "cherry\n"
     ]
    }
   ],
   "source": [
    "fruits = (\"apple\", \"banana\", \"cherry\")\n",
    "print(fruits[0])  # Output: apple\n",
    "print(fruits[-1])  # Output: cherry"
   ]
  },
  {
   "cell_type": "markdown",
   "id": "0d3c57c3",
   "metadata": {},
   "source": [
    "Tuples have a few built-in methods for querying data, such as `len()` and `count()`."
   ]
  },
  {
   "cell_type": "code",
   "execution_count": 24,
   "id": "8c08b70e",
   "metadata": {},
   "outputs": [
    {
     "name": "stdout",
     "output_type": "stream",
     "text": [
      "6\n",
      "2\n"
     ]
    }
   ],
   "source": [
    "numbers = (3, 1, 4, 1, 5, 9)\n",
    "print(len(numbers))  # Output: 6 (the number of elements in the tuple)\n",
    "print(numbers.count(1))  # Output: 2 (the number of occurrences of 1 in the tuple)"
   ]
  },
  {
   "cell_type": "markdown",
   "id": "ecd5f645",
   "metadata": {},
   "source": [
    "You can unpack a tuple into individual variables."
   ]
  },
  {
   "cell_type": "code",
   "execution_count": 25,
   "id": "f618f576",
   "metadata": {},
   "outputs": [
    {
     "name": "stdout",
     "output_type": "stream",
     "text": [
      "3\n",
      "5\n"
     ]
    }
   ],
   "source": [
    "coordinates = (3, 5)\n",
    "x, y = coordinates\n",
    "print(x)  # Output: 3\n",
    "print(y)  # Output: 5"
   ]
  },
  {
   "cell_type": "markdown",
   "id": "c8d9b312",
   "metadata": {},
   "source": [
    "You can concatenate tuples using the `+` operator."
   ]
  },
  {
   "cell_type": "code",
   "execution_count": 26,
   "id": "6eaf7523",
   "metadata": {},
   "outputs": [
    {
     "name": "stdout",
     "output_type": "stream",
     "text": [
      "('apple', 'banana', 'cherry', 'date')\n"
     ]
    }
   ],
   "source": [
    "fruits1 = (\"apple\", \"banana\")\n",
    "fruits2 = (\"cherry\", \"date\")\n",
    "all_fruits = fruits1 + fruits2\n",
    "print(all_fruits)  # Output: ('apple', 'banana', 'cherry', 'date')"
   ]
  },
  {
   "cell_type": "markdown",
   "id": "53b0cd99",
   "metadata": {},
   "source": [
    "### 4.3. Dictionaries\n",
    "\n",
    "In Python, a dictionary is an unordered, mutable collection of key-value pairs enclosed in curly braces ({}). Dictionaries store data in a structured format, where each key maps to its corresponding value. Here are some key features and examples of working with dictionaries in Python:"
   ]
  },
  {
   "cell_type": "code",
   "execution_count": 27,
   "id": "f8a74cd9",
   "metadata": {},
   "outputs": [],
   "source": [
    "# Empty dictionary\n",
    "empty_dict = {}\n",
    "\n",
    "# Dictionary with string keys and integer values\n",
    "numbers = {\"one\": 1, \"two\": 2, \"three\": 3}\n",
    "\n",
    "# Dictionary with mixed data types for keys and values\n",
    "mixed_dict = {\"name\": \"John Doe\", \"age\": 30, \"is_student\": False}"
   ]
  },
  {
   "cell_type": "markdown",
   "id": "7acac983",
   "metadata": {},
   "source": [
    "You can access the value associated with a key using square brackets (`[]`) or the `get()` method."
   ]
  },
  {
   "cell_type": "code",
   "execution_count": 29,
   "id": "517de041",
   "metadata": {},
   "outputs": [
    {
     "name": "stdout",
     "output_type": "stream",
     "text": [
      "1\n",
      "2\n"
     ]
    }
   ],
   "source": [
    "numbers = {\"one\": 1, \"two\": 2, \"three\": 3}\n",
    "print(numbers[\"one\"])       # Output: 1\n",
    "print(numbers.get(\"two\"))   # Output: 2"
   ]
  },
  {
   "cell_type": "markdown",
   "id": "8a4199c2",
   "metadata": {},
   "source": [
    "You can add new key-value pairs or update existing values.\n"
   ]
  },
  {
   "cell_type": "code",
   "execution_count": 31,
   "id": "639c777c",
   "metadata": {},
   "outputs": [
    {
     "name": "stdout",
     "output_type": "stream",
     "text": [
      "{'one': 1, 'two': 2, 'three': 3}\n",
      "{'one': 1, 'two': 4, 'three': 3}\n"
     ]
    }
   ],
   "source": [
    "numbers = {\"one\": 1, \"two\": 2}\n",
    "numbers[\"three\"] = 3    # Add a new key-value pair\n",
    "print(numbers)          # Output: {'one': 1, 'two': 2, 'three': 3}\n",
    "\n",
    "numbers[\"two\"] = 4      # Update an existing value\n",
    "print(numbers)          # Output: {'one': 1, 'two': 4, 'three': 3}"
   ]
  },
  {
   "cell_type": "code",
   "execution_count": 33,
   "id": "04b0f960",
   "metadata": {},
   "outputs": [
    {
     "name": "stdout",
     "output_type": "stream",
     "text": [
      "{'one': 1, 'three': 3}\n",
      "{'three': 3}\n"
     ]
    }
   ],
   "source": [
    "numbers = {\"one\": 1, \"two\": 2, \"three\": 3}\n",
    "del numbers[\"two\"]      # Remove a key-value pair\n",
    "print(numbers)          # Output: {'one': 1, 'three': 3}\n",
    "\n",
    "numbers.pop(\"one\")      # Remove the key-value pair with the given key\n",
    "print(numbers)          # Output: {'three': 3}"
   ]
  },
  {
   "cell_type": "markdown",
   "id": "de156a16",
   "metadata": {},
   "source": [
    "You can remove key-value pairs using the `del` statement or the `pop()` method.\n"
   ]
  },
  {
   "cell_type": "code",
   "execution_count": 9,
   "id": "48032c40",
   "metadata": {},
   "outputs": [
    {
     "name": "stdout",
     "output_type": "stream",
     "text": [
      "Alice\n",
      "{'name': 'Alice', 'age': 26, 'city': 'New York'}\n"
     ]
    }
   ],
   "source": [
    "# define a dictionary\n",
    "person = {\"name\": \"Alice\", \"age\": 25, \"city\": \"New York\"}\n",
    "\n",
    "# get a value (\"Alive\") by specifiying its key (\"name\")\n",
    "print(person[\"name\"])\n",
    "\n",
    "# modify a value (25 > 26) by specifying its key (\"age\")\n",
    "person[\"age\"] = 26\n",
    "\n",
    "print(person)"
   ]
  },
  {
   "cell_type": "markdown",
   "id": "e57d265d",
   "metadata": {},
   "source": [
    "Dictionaries have various built-in methods for querying and manipulating data.\n"
   ]
  },
  {
   "cell_type": "code",
   "execution_count": 34,
   "id": "04b4d969",
   "metadata": {},
   "outputs": [
    {
     "name": "stdout",
     "output_type": "stream",
     "text": [
      "True\n",
      "False\n",
      "dict_keys(['one', 'two', 'three'])\n",
      "dict_values([1, 2, 3])\n",
      "dict_items([('one', 1), ('two', 2), ('three', 3)])\n"
     ]
    }
   ],
   "source": [
    "numbers = {\"one\": 1, \"two\": 2, \"three\": 3}\n",
    "\n",
    "# Check if a key exists\n",
    "print(\"two\" in numbers)     # Output: True\n",
    "print(\"four\" in numbers)    # Output: False\n",
    "\n",
    "# Get all keys or values using the keys() and values() methods\n",
    "print(numbers.keys())       # Output: dict_keys(['one', 'two', 'three'])\n",
    "print(numbers.values())     # Output: dict_values([1, 2, 3])\n",
    "\n",
    "# Get both keys and values using items()\n",
    "print(numbers.items())      # Output: dict_items([('one', 1), ('two', 2), ('three', 3)])"
   ]
  },
  {
   "cell_type": "markdown",
   "id": "4bfeb65b",
   "metadata": {},
   "source": [
    "Dictionaries can contain other dictionaries, allowing you to create hierarchical data structures."
   ]
  },
  {
   "cell_type": "code",
   "execution_count": 36,
   "id": "c45cc450",
   "metadata": {},
   "outputs": [
    {
     "name": "stdout",
     "output_type": "stream",
     "text": [
      "85\n",
      "{'name': 'John Doe', 'age': 30, 'grades': {'math': 85, 'science': 95}}\n"
     ]
    }
   ],
   "source": [
    "student = {\"name\": \"John Doe\", \"age\": 30, \"grades\": {\"math\": 85, \"science\": 90}}\n",
    "print(student[\"grades\"][\"math\"])  # Output: 85\n",
    "\n",
    "student[\"grades\"][\"science\"] = 95\n",
    "print(student)  # Output: {'name': 'John Doe', 'age': 30, 'grades': {'math': 85, 'science': 95}}"
   ]
  },
  {
   "cell_type": "markdown",
   "id": "cd8d9dfb",
   "metadata": {},
   "source": [
    "You can merge two dictionaries using the `update()` method."
   ]
  },
  {
   "cell_type": "code",
   "execution_count": 37,
   "id": "d31b9b01",
   "metadata": {},
   "outputs": [
    {
     "name": "stdout",
     "output_type": "stream",
     "text": [
      "{'one': 1, 'two': 2, 'three': 3, 'four': 4}\n"
     ]
    }
   ],
   "source": [
    "numbers1 = {\"one\": 1, \"two\": 2}\n",
    "numbers2 = {\"three\": 3, \"four\": 4}\n",
    "\n",
    "numbers1.update(numbers2)\n",
    "print(numbers1)  # Output: {'one': 1, 'two': 2, 'three': 3, 'four': 4}"
   ]
  },
  {
   "cell_type": "markdown",
   "id": "235d93af",
   "metadata": {},
   "source": [
    "## 5. Kontrollstrukturen / Conditionals (if-elif-else)\n",
    "\n",
    "If/Else is a fundamental programming principle and can be found in almost every programming language. It can be used to control the behaviour of your program based on certain conditions. Think of it as decision-making: If somthing is the case we do A, if not, we do B. "
   ]
  },
  {
   "cell_type": "code",
   "execution_count": 2,
   "id": "406add92",
   "metadata": {},
   "outputs": [
    {
     "name": "stdout",
     "output_type": "stream",
     "text": [
      "Just turned 18\n"
     ]
    }
   ],
   "source": [
    "age = 18\n",
    "if age < 18:\n",
    "    print(\"Minor\")\n",
    "elif age == 18:\n",
    "    print(\"Just turned 18\")\n",
    "else:\n",
    "    print(\"Adult\")"
   ]
  },
  {
   "cell_type": "code",
   "execution_count": 1,
   "id": "604b8866",
   "metadata": {},
   "outputs": [
    {
     "name": "stdout",
     "output_type": "stream",
     "text": [
      "It's a bit chilly.\n"
     ]
    }
   ],
   "source": [
    "temperature = 18\n",
    "\n",
    "if temperature > 20:\n",
    "    print(\"It's warm outside.\")\n",
    "elif temperature > 10:\n",
    "    print(\"It's a bit chilly.\")\n",
    "else:\n",
    "    print(\"It's cold!\")"
   ]
  },
  {
   "cell_type": "markdown",
   "id": "51259eaa",
   "metadata": {},
   "source": [
    "To test if a condition is true or false you can use operators. \n",
    "\n",
    "**Comparison Operators** are used to compare values: \n",
    "\n",
    "- `==`: Equal to (e.g., `x == 5`)\n",
    "- `!=`: Not equal to (e.g., `y != 3`)\n",
    "- `<`: Less than (e.g., `a < b`)\n",
    "- `>`: Greater than (e.g., `c > d`)\n",
    "- `<=`: Less than or equal to (e.g., `e <= f`)\n",
    "- `>=`: Greater than or equal to (e.g., `g >= h`)\n",
    "\n",
    "**Logical Operators** are used to combine conditions and create more complex statements.\n",
    "\n",
    "- `and`: Both conditions must be true for the whole statement to be true (e.g., `(x > 0) and (y < 10)`)\n",
    "- `or`: Only one condition needs to be true for the whole statement to be true (e.g., `(a == 5) or (b != 2)`)\n",
    "- `not`: Inverts the truth value of a condition (e.g., `not (c > d)`)\n",
    "\n",
    "\n",
    "**Membership Operators** are used to check if a sequence contains certain elements.\n",
    "\n",
    "- `in`: Checks if an element is present in a list, tuple, or string (e.g., `5 in [1, 2, 3, 4, 5]`)\n",
    "- `not in`: Checks if an element is not present in a list, tuple, or string (e.g., `6 not in [1, 2, 3, 4, 5]`)"
   ]
  },
  {
   "cell_type": "markdown",
   "id": "6781b912",
   "metadata": {},
   "source": [
    "## 6. Schlaufen / Loops\n",
    "\n",
    "In Python, loops allow you to repeat a block of code multiple times based on certain \n",
    "conditions. Python supports two types of loops: `for` loops and `while` loops."
   ]
  },
  {
   "cell_type": "markdown",
   "id": "b1bf6d6f",
   "metadata": {},
   "source": [
    "### 6.1 For Loop\n",
    "\n",
    "A `for` loop is used to iterate over a sequence (like lists, tuples, dictionaries, sets, or strings) or other iterable objects.\n",
    "\n",
    "The syntax looks like this: \n",
    "\n",
    "```python\n",
    "for variable in iterable:\n",
    "    # code block to execute for each iteration\n",
    "```"
   ]
  },
  {
   "cell_type": "code",
   "execution_count": null,
   "id": "687fb7eb",
   "metadata": {},
   "outputs": [
    {
     "name": "stdout",
     "output_type": "stream",
     "text": [
      "I like apple.\n",
      "I like banana.\n",
      "I like cherry.\n"
     ]
    }
   ],
   "source": [
    "# Iterating over a list\n",
    "fruits = [\"apple\", \"banana\", \"cherry\"]\n",
    "for fruit in fruits:\n",
    "    print(f\"I like {fruit}.\")"
   ]
  },
  {
   "cell_type": "code",
   "execution_count": null,
   "id": "c599c68f",
   "metadata": {},
   "outputs": [
    {
     "name": "stdout",
     "output_type": "stream",
     "text": [
      "Iteration 0\n",
      "Iteration 1\n",
      "Iteration 2\n",
      "Iteration 3\n",
      "Iteration 4\n"
     ]
    }
   ],
   "source": [
    "# Iterating over a range of numbers, e.g. from 0 to 4 (5x)\n",
    "for i in range(5):\n",
    "    print(f\"Iteration {i}\")"
   ]
  },
  {
   "cell_type": "code",
   "execution_count": 22,
   "id": "6b9b97d1",
   "metadata": {},
   "outputs": [
    {
     "name": "stdout",
     "output_type": "stream",
     "text": [
      "Iteration 1\n",
      "Iteration 2\n",
      "Iteration 3\n",
      "Iteration 4\n"
     ]
    }
   ],
   "source": [
    "# Define the range: were to start and were to stop\n",
    "for i in range(1, 5):\n",
    "    print(f\"Iteration {i}\")"
   ]
  },
  {
   "cell_type": "markdown",
   "id": "e9e1c845",
   "metadata": {},
   "source": [
    "#### Iterating over a dictionary with `.items()`, `.keys()`, or `.values()`:\n",
    "\n",
    "Values are the data associated with each key in a dictionary. You can \n",
    "iterate over values using the `.values()` method, which returns a view object \n",
    "containing all the values. For example:"
   ]
  },
  {
   "cell_type": "code",
   "execution_count": 11,
   "id": "ed74c8b5",
   "metadata": {},
   "outputs": [
    {
     "name": "stdout",
     "output_type": "stream",
     "text": [
      "Alice\n",
      "30\n",
      "New York\n"
     ]
    }
   ],
   "source": [
    "person = {\"name\": \"Alice\", \"age\": 30, \"city\": \"New York\"}\n",
    "\n",
    "for value in person.values():\n",
    "    print(value)"
   ]
  },
  {
   "cell_type": "markdown",
   "id": "04de20ff",
   "metadata": {},
   "source": [
    "Keys are the unique identifiers for each value stored in a dictionary. You can \n",
    "iterate over keys using the `.keys()` method, which returns a view object containing \n",
    "all the keys. For example:"
   ]
  },
  {
   "cell_type": "code",
   "execution_count": 12,
   "id": "0feee8ca",
   "metadata": {},
   "outputs": [
    {
     "name": "stdout",
     "output_type": "stream",
     "text": [
      "name\n",
      "age\n",
      "city\n"
     ]
    }
   ],
   "source": [
    "for key in person.keys():\n",
    "    print(key)"
   ]
  },
  {
   "cell_type": "code",
   "execution_count": 13,
   "id": "b70e1933",
   "metadata": {},
   "outputs": [
    {
     "name": "stdout",
     "output_type": "stream",
     "text": [
      "name: Alice\n",
      "age: 30\n",
      "city: New York\n"
     ]
    }
   ],
   "source": [
    "# iterate over the keys and use them to get the value\n",
    "for key in person.keys():\n",
    "    print(f\"{key}: {person[key]}\")"
   ]
  },
  {
   "cell_type": "markdown",
   "id": "ce6bff3f",
   "metadata": {},
   "source": [
    "An item in a dictionary refers to each key-value pair as a single unit. \n",
    "You can iterate over the items using the `.items()` method, which returns a view \n",
    "object containing tuples of (key, value) pairs. For example:"
   ]
  },
  {
   "cell_type": "code",
   "execution_count": 14,
   "id": "90ae3c4f",
   "metadata": {},
   "outputs": [
    {
     "name": "stdout",
     "output_type": "stream",
     "text": [
      "name: Alice\n",
      "age: 30\n",
      "city: New York\n"
     ]
    }
   ],
   "source": [
    "# iterate over `items` to get key and value at the same time\n",
    "for key, value in person.items():\n",
    "    print(f\"{key}: {value}\")"
   ]
  },
  {
   "cell_type": "markdown",
   "id": "2b75bef6",
   "metadata": {},
   "source": [
    "### 6.2 While Loop\n",
    "\n",
    "A `while` loop is used to repeatedly execute a block of code as long as a certain condition remains true."
   ]
  },
  {
   "cell_type": "code",
   "execution_count": null,
   "id": "549f12a4",
   "metadata": {},
   "outputs": [],
   "source": [
    "count = 0\n",
    "while count < 3:\n",
    "    print(f\"Count: {count}\")\n",
    "    count += 1"
   ]
  },
  {
   "cell_type": "markdown",
   "id": "ad1403a8",
   "metadata": {},
   "source": [
    "## 7. Functions\n",
    "\n",
    "In Python, a function is a reusable block of code that performs a specific task. Functions provide several benefits, such as code organization, reusability, and modularity.\n",
    "\n",
    "A function is defined using the `def` keyword, followed by the function name, parentheses (which may contain formal parameters), and a colon (:). The code block to be executed when the function is called follows the indentation under the definition.\n"
   ]
  },
  {
   "cell_type": "code",
   "execution_count": 42,
   "id": "370f9502",
   "metadata": {},
   "outputs": [
    {
     "name": "stdout",
     "output_type": "stream",
     "text": [
      "Hello, Alice!\n"
     ]
    }
   ],
   "source": [
    "def greet(name):\n",
    "    print(f\"Hello, {name}!\")\n",
    "\n",
    "greet(\"Alice\")  # Output: Hello, Alice!"
   ]
  },
  {
   "cell_type": "markdown",
   "id": "e829ba1e",
   "metadata": {},
   "source": [
    "Formal parameters are variables listed inside the \n",
    "parentheses of a function definition that accept input values when the function is \n",
    "called. They can be positional or keyword arguments. You can define default values for \n",
    "formal parameters by assigning them in the function definition."
   ]
  },
  {
   "cell_type": "code",
   "execution_count": 43,
   "id": "3e8bf0bf",
   "metadata": {},
   "outputs": [
    {
     "name": "stdout",
     "output_type": "stream",
     "text": [
      "Hello, Bob!\n",
      "Hi, Charlie!\n"
     ]
    }
   ],
   "source": [
    "def greet(name, greeting=\"Hello\"):  # 'greeting' has a default value of \"Hello\"\n",
    "    print(f\"{greeting}, {name}!\")\n",
    "\n",
    "greet(\"Bob\")  # Output: Hello, Bob!\n",
    "greet(\"Charlie\", greeting=\"Hi\")  # Output: Hi, Charlie!"
   ]
  },
  {
   "cell_type": "markdown",
   "id": "55a84022",
   "metadata": {},
   "source": [
    "The `return` statement specifies the value to be sent back \n",
    "from the function when it is called. A function can return any data type, including \n",
    "complex data structures like lists or dictionaries. If no `return` statement is \n",
    "present, the function returns `None`."
   ]
  },
  {
   "cell_type": "code",
   "execution_count": null,
   "id": "1955b922",
   "metadata": {},
   "outputs": [
    {
     "name": "stdout",
     "output_type": "stream",
     "text": [
      "8\n"
     ]
    }
   ],
   "source": [
    "def add_numbers(a, b):\n",
    "    result = a + b\n",
    "    return result\n",
    "\n",
    "sum_ab = add_numbers(3, 5)\n",
    "print(sum_ab)  # Output: 8"
   ]
  },
  {
   "cell_type": "markdown",
   "id": "467c5193",
   "metadata": {},
   "source": [
    "You can include a string at the beginning \n",
    "of your function definition to provide documentation about what the function does, its \n",
    "parameters, and return values. This string is called a docstring and should be \n",
    "enclosed in triple quotes (`\"\"\" \"\"\"` or `''' '''`). Docstrings are accessed using the \n",
    "`__doc__` attribute."
   ]
  },
  {
   "cell_type": "code",
   "execution_count": 45,
   "id": "53c3694b",
   "metadata": {},
   "outputs": [
    {
     "name": "stdout",
     "output_type": "stream",
     "text": [
      "This function greets the person passed as argument\n",
      "\n",
      "    Args:\n",
      "        name (str): The name of the person to greet\n",
      "\n",
      "    Returns:\n",
      "        None\n",
      "    \n"
     ]
    }
   ],
   "source": [
    "def greet(name):\n",
    "    \"\"\"This function greets the person passed as argument\n",
    "\n",
    "    Args:\n",
    "        name (str): The name of the person to greet\n",
    "\n",
    "    Returns:\n",
    "        None\n",
    "    \"\"\"\n",
    "    print(f\"Hello, {name}!\")\n",
    "\n",
    "print(greet.__doc__)"
   ]
  }
 ],
 "metadata": {
  "kernelspec": {
   "display_name": "Python 3",
   "language": "python",
   "name": "python3"
  },
  "language_info": {
   "codemirror_mode": {
    "name": "ipython",
    "version": 3
   },
   "file_extension": ".py",
   "mimetype": "text/x-python",
   "name": "python",
   "nbconvert_exporter": "python",
   "pygments_lexer": "ipython3",
   "version": "3.11.5"
  }
 },
 "nbformat": 4,
 "nbformat_minor": 5
}
